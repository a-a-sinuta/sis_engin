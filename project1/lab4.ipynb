{
 "cells": [
  {
   "cell_type": "code",
   "execution_count": 3,
   "metadata": {},
   "outputs": [],
   "source": [
    "def say_hello():\n",
    "    return \"Hello\""
   ]
  },
  {
   "cell_type": "code",
   "execution_count": 4,
   "metadata": {},
   "outputs": [
    {
     "ename": "ModuleNotFoundError",
     "evalue": "No module named 'hello'",
     "output_type": "error",
     "traceback": [
      "\u001b[1;31m---------------------------------------------------------------------------\u001b[0m",
      "\u001b[1;31mModuleNotFoundError\u001b[0m                       Traceback (most recent call last)",
      "Cell \u001b[1;32mIn[4], line 2\u001b[0m\n\u001b[0;32m      1\u001b[0m \u001b[38;5;28;01mimport\u001b[39;00m \u001b[38;5;21;01munittest\u001b[39;00m\n\u001b[1;32m----> 2\u001b[0m \u001b[38;5;28;01mfrom\u001b[39;00m \u001b[38;5;21;01mhello\u001b[39;00m \u001b[38;5;28;01mimport\u001b[39;00m say_hello\n\u001b[0;32m      4\u001b[0m \u001b[38;5;28;01mclass\u001b[39;00m \u001b[38;5;21;01mTestHelloWorld\u001b[39;00m(unittest\u001b[38;5;241m.\u001b[39mTestHelloWorld):\n\u001b[0;32m      5\u001b[0m     \u001b[38;5;28;01mdef\u001b[39;00m \u001b[38;5;21mtest_say_hello\u001b[39m(\u001b[38;5;28mself\u001b[39m):\n",
      "\u001b[1;31mModuleNotFoundError\u001b[0m: No module named 'hello'"
     ]
    }
   ],
   "source": [
    "import unittest\n",
    "from hello import say_hello\n",
    "\n",
    "class TestHelloWorld(unittest.TestHelloWorld):\n",
    "    def test_say_hello(self):\n",
    "        result = say_hello()\n",
    "        self.assertEqual(result,\"Hello\")\n",
    "\n",
    "\n",
    "if __name__=='__main__':\n",
    "    unittest.main()"
   ]
  },
  {
   "cell_type": "code",
   "execution_count": 6,
   "metadata": {},
   "outputs": [],
   "source": [
    "def test_say_hello_not_empty(self):\n",
    "    result= say_hello()\n",
    "    self.assertTrue(len(result)>0)"
   ]
  },
  {
   "cell_type": "code",
   "execution_count": 5,
   "metadata": {},
   "outputs": [],
   "source": [
    "def test_say_hello_contains_hello(self):\n",
    "    result=say_hello()\n",
    "    self.assertIn(\"Hello\",result)"
   ]
  },
  {
   "cell_type": "code",
   "execution_count": 10,
   "metadata": {},
   "outputs": [
    {
     "name": "stderr",
     "output_type": "stream",
     "text": [
      "....\n",
      "----------------------------------------------------------------------\n",
      "Ran 4 tests in 0.006s\n",
      "\n",
      "OK\n"
     ]
    }
   ],
   "source": [
    "import unittest\n",
    "\n",
    "\n",
    "def add(a, b):\n",
    "    return a + b\n",
    "\n",
    "\n",
    "class TestAdditional(unittest.TestCase):\n",
    "\n",
    "    def test_add_positive_numbers(self):\n",
    "        result = add(3, 5)\n",
    "        self.assertEqual(result, 8)\n",
    "\n",
    "    def test_add_negative_numbers(self):\n",
    "        result = add(-3, -5)\n",
    "        self.assertEqual(result, -8)\n",
    "\n",
    "    def test_add_mixed_numbers(self):\n",
    "        result = add(3, -5)\n",
    "        self.assertEqual(result, -2)\n",
    "\n",
    "    def test_add_zero(self):\n",
    "        result = add(0, 7)\n",
    "        self.assertEqual(result, 7)\n",
    "\n",
    "if __name__ == '__main__':\n",
    "   import unittest\n",
    "\n",
    "def run_tests():\n",
    "    loader = unittest.TestLoader()\n",
    "    suite = loader.loadTestsFromTestCase(TestAdditional)\n",
    "\n",
    "    runner = unittest.TextTestRunner()\n",
    "    result = runner.run(suite)\n",
    "\n",
    "run_tests()\n"
   ]
  },
  {
   "cell_type": "code",
   "execution_count": 12,
   "metadata": {},
   "outputs": [
    {
     "name": "stderr",
     "output_type": "stream",
     "text": [
      "C:\\Users\\smotr\\AppData\\Local\\Temp\\ipykernel_17672\\1550613955.py:13: DeprecationWarning: unittest.makeSuite() is deprecated and will be removed in Python 3.13. Please use unittest.TestLoader.loadTestsFromTestCase() instead.\n",
      "  test_suite.addTest(unittest.makeSuite(TestAdditional))\n",
      "C:\\Users\\smotr\\AppData\\Local\\Temp\\ipykernel_17672\\1550613955.py:14: DeprecationWarning: unittest.makeSuite() is deprecated and will be removed in Python 3.13. Please use unittest.TestLoader.loadTestsFromTestCase() instead.\n",
      "  test_suite.addTest(unittest.makeSuite(TestSubtraction))\n",
      "..\n",
      "----------------------------------------------------------------------\n",
      "Ran 2 tests in 0.004s\n",
      "\n",
      "OK\n"
     ]
    }
   ],
   "source": [
    "import unittest\n",
    "\n",
    "class TestAdditional(unittest.TestCase):\n",
    "    def test_add_positive_numbers(self):\n",
    "        self.assertEqual(1 + 2, 3)\n",
    "\n",
    "class TestSubtraction(unittest.TestCase):\n",
    "    def test_subtract_positive_numbers(self):\n",
    "        self.assertEqual(5 - 3, 2)\n",
    "\n",
    "if __name__ == '__main__':\n",
    "    test_suite = unittest.TestSuite()\n",
    "    test_suite.addTest(unittest.makeSuite(TestAdditional))\n",
    "    test_suite.addTest(unittest.makeSuite(TestSubtraction))\n",
    "\n",
    "    unittest.TextTestRunner().run(test_suite)\n",
    "\n"
   ]
  },
  {
   "cell_type": "code",
   "execution_count": 17,
   "metadata": {},
   "outputs": [
    {
     "name": "stderr",
     "output_type": "stream",
     "text": [
      "\n",
      "----------------------------------------------------------------------\n",
      "Ran 0 tests in 0.000s\n",
      "\n",
      "NO TESTS RAN\n"
     ]
    }
   ],
   "source": [
    "import unittest\n",
    "\n",
    "\n",
    "class MyTestCase(unittest.TestCase):\n",
    "    def setUp(self):\n",
    "        print(\"Очистка\")\n",
    "\n",
    "    def tearDown(self):\n",
    "        print(\"Выполнение\")\n",
    "\n",
    "\n",
    "if __name__ == '__main__':\n",
    "    def run_tests():\n",
    "        loader = unittest.TestLoader()\n",
    "        suite = loader.loadTestsFromTestCase(MyTestCase)\n",
    "\n",
    "        runner = unittest.TextTestRunner()\n",
    "        result = runner.run(suite)\n",
    "\n",
    "    run_tests()\n"
   ]
  },
  {
   "cell_type": "code",
   "execution_count": null,
   "metadata": {},
   "outputs": [],
   "source": [
    "import unittest\n",
    "from my_module import add\n",
    "\n",
    "\n",
    "\n",
    "\n",
    "class TestMyModule(unittest.TestCase):\n",
    "\n",
    "    def setUp(self):\n",
    "        print(\"Настройка начальных условий\")\n",
    "\n",
    "    def test_add_positive_numbers(self):\n",
    "        result = add(2, 3)\n",
    "        self.assertEqual(result, 5)\n",
    "\n",
    "    def test_add_negative_numbers(self):\n",
    "        result = add(-2, -3)\n",
    "        self.assertEqual(result, -5)\n",
    "\n",
    "    def test_add_mixed_numbers(self):\n",
    "        result = add(5, -3)\n",
    "        self.assertEqual(result, 2)\n",
    "\n",
    "    def tearDown(self):\n",
    "        print(\"Очистка\")\n",
    "\n",
    "if __name__ == '__main__':\n",
    "    unittest.main()\n"
   ]
  },
  {
   "cell_type": "code",
   "execution_count": 9,
   "metadata": {},
   "outputs": [],
   "source": [
    "def divide(x,y):\n",
    "    try:\n",
    "        result=x/y\n",
    "    except ZeroDivisionError:\n",
    "        return \"Делени на ноль недопустимо\"\n",
    "    return result\n",
    "\n",
    "def test_divide_by_zero():\n",
    "    result=divide(5,0)\n",
    "    assert result==\"Деление на ноль недопустимо\""
   ]
  },
  {
   "cell_type": "code",
   "execution_count": 10,
   "metadata": {},
   "outputs": [],
   "source": [
    "import pytest\n",
    "\n",
    "def divide(x,y):\n",
    "    if y==0:\n",
    "        raise ZeroDivisionError(\"ДЕЛЕНИЕ НА НОЛЬ НЕТ\")\n",
    "    return x/y\n",
    "\n",
    "def test_divide_by_zero():\n",
    "    with pytest.raises(ZeroDivisionError):\n",
    "        divide(5,0)"
   ]
  },
  {
   "cell_type": "code",
   "execution_count": 11,
   "metadata": {},
   "outputs": [],
   "source": [
    "def divide (x,y):\n",
    "    try:\n",
    "        result=x/y\n",
    "    except ZeroDivisionError:\n",
    "        return \"деление на ноль нет\"\n",
    "    return result\n",
    "\n",
    "\n",
    "def test_divivde_by_zero():\n",
    "    result=divide(5,0)\n",
    "    assert result==\"деление на ноль нет\""
   ]
  },
  {
   "cell_type": "code",
   "execution_count": 13,
   "metadata": {},
   "outputs": [
    {
     "ename": "ImportError",
     "evalue": "Start directory is not importable: 'tests'",
     "output_type": "error",
     "traceback": [
      "\u001b[1;31m---------------------------------------------------------------------------\u001b[0m",
      "\u001b[1;31mImportError\u001b[0m                               Traceback (most recent call last)",
      "Cell \u001b[1;32mIn[13], line 6\u001b[0m\n\u001b[0;32m      4\u001b[0m loader \u001b[38;5;241m=\u001b[39m unittest\u001b[38;5;241m.\u001b[39mTestLoader()\n\u001b[0;32m      5\u001b[0m start_dir \u001b[38;5;241m=\u001b[39m\u001b[38;5;124m'\u001b[39m\u001b[38;5;124mtests\u001b[39m\u001b[38;5;124m'\u001b[39m\n\u001b[1;32m----> 6\u001b[0m suite \u001b[38;5;241m=\u001b[39m \u001b[43mloader\u001b[49m\u001b[38;5;241;43m.\u001b[39;49m\u001b[43mdiscover\u001b[49m\u001b[43m(\u001b[49m\u001b[43mstart_dir\u001b[49m\u001b[43m)\u001b[49m\n\u001b[0;32m      7\u001b[0m runner \u001b[38;5;241m=\u001b[39m unittest\u001b[38;5;241m.\u001b[39mTextTestRunner()\n\u001b[0;32m      8\u001b[0m result \u001b[38;5;241m=\u001b[39m runner\u001b[38;5;241m.\u001b[39mrun(suite)\n",
      "File \u001b[1;32mc:\\Users\\smotr\\Downloads\\vsiakoe\\python\\Lib\\unittest\\loader.py:307\u001b[0m, in \u001b[0;36mTestLoader.discover\u001b[1;34m(self, start_dir, pattern, top_level_dir)\u001b[0m\n\u001b[0;32m    304\u001b[0m             sys\u001b[38;5;241m.\u001b[39mpath\u001b[38;5;241m.\u001b[39mremove(top_level_dir)\n\u001b[0;32m    306\u001b[0m \u001b[38;5;28;01mif\u001b[39;00m is_not_importable:\n\u001b[1;32m--> 307\u001b[0m     \u001b[38;5;28;01mraise\u001b[39;00m \u001b[38;5;167;01mImportError\u001b[39;00m(\u001b[38;5;124m'\u001b[39m\u001b[38;5;124mStart directory is not importable: \u001b[39m\u001b[38;5;132;01m%r\u001b[39;00m\u001b[38;5;124m'\u001b[39m \u001b[38;5;241m%\u001b[39m start_dir)\n\u001b[0;32m    309\u001b[0m tests \u001b[38;5;241m=\u001b[39m \u001b[38;5;28mlist\u001b[39m(\u001b[38;5;28mself\u001b[39m\u001b[38;5;241m.\u001b[39m_find_tests(start_dir, pattern))\n\u001b[0;32m    310\u001b[0m \u001b[38;5;28;01mreturn\u001b[39;00m \u001b[38;5;28mself\u001b[39m\u001b[38;5;241m.\u001b[39msuiteClass(tests)\n",
      "\u001b[1;31mImportError\u001b[0m: Start directory is not importable: 'tests'"
     ]
    }
   ],
   "source": [
    "import unittest\n",
    "\n",
    "if __name__=='__main__':\n",
    "    loader = unittest.TestLoader()\n",
    "    start_dir ='tests'\n",
    "    suite = loader.discover(start_dir)\n",
    "    runner = unittest.TextTestRunner()\n",
    "    result = runner.run(suite)"
   ]
  },
  {
   "cell_type": "code",
   "execution_count": null,
   "metadata": {},
   "outputs": [],
   "source": []
  }
 ],
 "metadata": {
  "kernelspec": {
   "display_name": "Python 3",
   "language": "python",
   "name": "python3"
  },
  "language_info": {
   "codemirror_mode": {
    "name": "ipython",
    "version": 3
   },
   "file_extension": ".py",
   "mimetype": "text/x-python",
   "name": "python",
   "nbconvert_exporter": "python",
   "pygments_lexer": "ipython3",
   "version": "3.12.1"
  }
 },
 "nbformat": 4,
 "nbformat_minor": 2
}
