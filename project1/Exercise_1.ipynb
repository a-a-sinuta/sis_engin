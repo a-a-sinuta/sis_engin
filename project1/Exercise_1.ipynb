{
 "cells": [
  {
   "cell_type": "code",
   "execution_count": null,
   "metadata": {},
   "outputs": [],
   "source": [
    "import pandas as pd"
   ]
  },
  {
   "attachments": {},
   "cell_type": "markdown",
   "metadata": {},
   "source": [
    "# Работа с Pandas"
   ]
  },
  {
   "attachments": {},
   "cell_type": "markdown",
   "metadata": {},
   "source": [
    "1. Загрузите ваш DataFrame в переменную df и выведете на экран первые пять строк "
   ]
  },
  {
   "cell_type": "code",
   "execution_count": 2,
   "metadata": {},
   "outputs": [
    {
     "name": "stdout",
     "output_type": "stream",
     "text": [
      "                                                 App        Category  Rating  \\\n",
      "0     Photo Editor & Candy Camera & Grid & ScrapBook  ART_AND_DESIGN     4.1   \n",
      "1                                Coloring book moana  ART_AND_DESIGN     3.9   \n",
      "2  U Launcher Lite – FREE Live Cool Themes, Hide ...  ART_AND_DESIGN     4.7   \n",
      "3                              Sketch - Draw & Paint  ART_AND_DESIGN     4.5   \n",
      "4              Pixel Draw - Number Art Coloring Book  ART_AND_DESIGN     4.3   \n",
      "\n",
      "  Reviews  Size     Installs  Type  Price Content Rating  \\\n",
      "0     159   19M      10,000+  Free    0.0       Everyone   \n",
      "1     967   14M     500,000+  Free    0.0       Everyone   \n",
      "2   87510  8.7M   5,000,000+  Free    0.0       Everyone   \n",
      "3  215644   25M  50,000,000+  Free    0.0           Teen   \n",
      "4     967  2.8M     100,000+  Free    0.0       Everyone   \n",
      "\n",
      "                      Genres      Last Updated         Current Ver  \\\n",
      "0               Art & Design   January 7, 2018               1.0.0   \n",
      "1  Art & Design;Pretend Play  January 15, 2018               2.0.0   \n",
      "2               Art & Design    August 1, 2018               1.2.4   \n",
      "3               Art & Design      June 8, 2018  Varies with device   \n",
      "4    Art & Design;Creativity     June 20, 2018                 1.1   \n",
      "\n",
      "    Android Ver  \n",
      "0  4.0.3 and up  \n",
      "1  4.0.3 and up  \n",
      "2  4.0.3 and up  \n",
      "3    4.2 and up  \n",
      "4    4.4 and up  \n"
     ]
    }
   ],
   "source": [
    "import pandas as pd\n",
    "\n",
    "df = pd.read_csv('C:/Users/smotr/Downloads/googleplaystore.csv')\n",
    "print(df.head())\n",
    "\n"
   ]
  },
  {
   "attachments": {},
   "cell_type": "markdown",
   "metadata": {},
   "source": [
    "2. Отобразите количество строк и столбцов в DataFrame"
   ]
  },
  {
   "cell_type": "code",
   "execution_count": 3,
   "metadata": {},
   "outputs": [
    {
     "name": "stdout",
     "output_type": "stream",
     "text": [
      "Количество строк и столбцов: (10841, 13)\n"
     ]
    }
   ],
   "source": [
    "\n",
    "df = pd.read_csv('C:/Users/smotr/Downloads/googleplaystore.csv')\n",
    "print(\"Количество строк и столбцов:\", df.shape)\n"
   ]
  },
  {
   "attachments": {},
   "cell_type": "markdown",
   "metadata": {},
   "source": [
    "3. Выведете основную информацию о DataFrame методом info(). Проанализируйте есть ли пропуски в столбцах. Напишите вывод о том, какие столбцы содержат пропуски"
   ]
  },
  {
   "cell_type": "code",
   "execution_count": null,
   "metadata": {},
   "outputs": [],
   "source": [
    "df = pd.read_csv('C:/Users/smotr/Downloads/googleplaystore.csv')\n",
    "df.info()\n"
   ]
  },
  {
   "cell_type": "markdown",
   "metadata": {},
   "source": [
    "Вывод: Метод info() выведет информацию о каждом столбце. Если есть пропущенные значения, тогда выведет количество непропущенных значений, и  общее количество значений в столбце."
   ]
  },
  {
   "attachments": {},
   "cell_type": "markdown",
   "metadata": {},
   "source": [
    "4. Удалите или замените пропуски известными вам методами. (Подсказка: `dropna()` или `fillna()`, выбор того или иного метода должен быть аргументирован)."
   ]
  },
  {
   "cell_type": "code",
   "execution_count": 4,
   "metadata": {},
   "outputs": [],
   "source": [
    "df_cleaned = df.dropna()"
   ]
  },
  {
   "cell_type": "markdown",
   "metadata": {},
   "source": [
    "Этот метод удалит все строки, содержащие хотя бы один пропуск, эффективно, когда пропущенные значения занимают небольшую долю данных"
   ]
  },
  {
   "attachments": {},
   "cell_type": "markdown",
   "metadata": {},
   "source": [
    "5. Проверьте нет ли пропусков после произведенной обработки"
   ]
  },
  {
   "cell_type": "code",
   "execution_count": 5,
   "metadata": {},
   "outputs": [
    {
     "name": "stdout",
     "output_type": "stream",
     "text": [
      "<class 'pandas.core.frame.DataFrame'>\n",
      "Index: 9360 entries, 0 to 10840\n",
      "Data columns (total 13 columns):\n",
      " #   Column          Non-Null Count  Dtype  \n",
      "---  ------          --------------  -----  \n",
      " 0   App             9360 non-null   object \n",
      " 1   Category        9360 non-null   object \n",
      " 2   Rating          9360 non-null   float64\n",
      " 3   Reviews         9360 non-null   object \n",
      " 4   Size            9360 non-null   object \n",
      " 5   Installs        9360 non-null   object \n",
      " 6   Type            9360 non-null   object \n",
      " 7   Price           9360 non-null   float64\n",
      " 8   Content Rating  9360 non-null   object \n",
      " 9   Genres          9360 non-null   object \n",
      " 10  Last Updated    9360 non-null   object \n",
      " 11  Current Ver     9360 non-null   object \n",
      " 12  Android Ver     9360 non-null   object \n",
      "dtypes: float64(2), object(11)\n",
      "memory usage: 1023.8+ KB\n"
     ]
    }
   ],
   "source": [
    "df_cleaned.info()"
   ]
  },
  {
   "attachments": {},
   "cell_type": "markdown",
   "metadata": {},
   "source": [
    "6. Выведите на экран минимум и максимум из столбца `Price`:"
   ]
  },
  {
   "cell_type": "code",
   "execution_count": 9,
   "metadata": {},
   "outputs": [
    {
     "name": "stdout",
     "output_type": "stream",
     "text": [
      "Минимальное значение Price: 0.0\n",
      "Максимальное значение Price: 400.0\n"
     ]
    }
   ],
   "source": [
    "min_price = df['Price'].min()\n",
    "max_price = df['Price'].max()\n",
    "print(\"Минимальное значение Price:\", min_price)\n",
    "print(\"Максимальное значение Price:\", max_price)\n"
   ]
  },
  {
   "attachments": {},
   "cell_type": "markdown",
   "metadata": {},
   "source": [
    "7. Выведите на экран медиану и среднее арифметическое столбцов:\n",
    " - Rating\n",
    " - Reviews"
   ]
  },
  {
   "cell_type": "code",
   "execution_count": 12,
   "metadata": {},
   "outputs": [
    {
     "name": "stdout",
     "output_type": "stream",
     "text": [
      "Медиана для столбца Reviews: 2094.0\n",
      "Среднее арифметическое для столбца Reviews: 444152.89603321033\n"
     ]
    }
   ],
   "source": [
    "df['Reviews'] = pd.to_numeric(df['Reviews'], errors='coerce')\n",
    "\n",
    "median_reviews = df['Reviews'].median()\n",
    "mean_reviews = df['Reviews'].mean()\n",
    "\n",
    "print(\"Медиана для столбца Reviews:\", median_reviews)\n",
    "print(\"Среднее арифметическое для столбца Reviews:\", mean_reviews)\n",
    "\n"
   ]
  },
  {
   "attachments": {},
   "cell_type": "markdown",
   "metadata": {},
   "source": [
    "8. Выведите на экран все уникальные значения категориального столбца Genres"
   ]
  },
  {
   "cell_type": "code",
   "execution_count": 13,
   "metadata": {},
   "outputs": [
    {
     "name": "stdout",
     "output_type": "stream",
     "text": [
      "['Art & Design' 'Art & Design;Pretend Play' 'Art & Design;Creativity'\n",
      " 'Art & Design;Action & Adventure' 'Auto & Vehicles' 'Beauty'\n",
      " 'Books & Reference' 'Business' 'Comics' 'Comics;Creativity'\n",
      " 'Communication' 'Dating' 'Education;Education' 'Education'\n",
      " 'Education;Creativity' 'Education;Music & Video'\n",
      " 'Education;Action & Adventure' 'Education;Pretend Play'\n",
      " 'Education;Brain Games' 'Entertainment' 'Entertainment;Music & Video'\n",
      " 'Entertainment;Brain Games' 'Entertainment;Creativity' 'Events' 'Finance'\n",
      " 'Food & Drink' 'Health & Fitness' 'House & Home' 'Libraries & Demo'\n",
      " 'Lifestyle' 'Lifestyle;Pretend Play' 'Adventure;Action & Adventure'\n",
      " 'Arcade' 'Casual' 'Card' 'Casual;Pretend Play' 'Action' 'Strategy'\n",
      " 'Puzzle' 'Sports' 'Music' 'Word' 'Racing' 'Casual;Creativity'\n",
      " 'Casual;Action & Adventure' 'Simulation' 'Adventure' 'Board' 'Trivia'\n",
      " 'Role Playing' 'Simulation;Education' 'Action;Action & Adventure'\n",
      " 'Casual;Brain Games' 'Simulation;Action & Adventure'\n",
      " 'Educational;Creativity' 'Puzzle;Brain Games' 'Educational;Education'\n",
      " 'Card;Brain Games' 'Educational;Brain Games' 'Educational;Pretend Play'\n",
      " 'Entertainment;Education' 'Casual;Education' 'Music;Music & Video'\n",
      " 'Racing;Action & Adventure' 'Arcade;Pretend Play'\n",
      " 'Role Playing;Action & Adventure' 'Simulation;Pretend Play'\n",
      " 'Puzzle;Creativity' 'Sports;Action & Adventure'\n",
      " 'Educational;Action & Adventure' 'Arcade;Action & Adventure'\n",
      " 'Entertainment;Action & Adventure' 'Puzzle;Action & Adventure'\n",
      " 'Strategy;Action & Adventure' 'Music & Audio;Music & Video'\n",
      " 'Health & Fitness;Education' 'Adventure;Education' 'Board;Brain Games'\n",
      " 'Board;Action & Adventure' 'Board;Pretend Play' 'Casual;Music & Video'\n",
      " 'Role Playing;Pretend Play' 'Entertainment;Pretend Play'\n",
      " 'Video Players & Editors;Creativity' 'Card;Action & Adventure' 'Medical'\n",
      " 'Social' 'Shopping' 'Photography' 'Travel & Local'\n",
      " 'Travel & Local;Action & Adventure' 'Tools' 'Tools;Education'\n",
      " 'Personalization' 'Productivity' 'Parenting' 'Parenting;Music & Video'\n",
      " 'Parenting;Education' 'Parenting;Brain Games' 'Weather'\n",
      " 'Video Players & Editors' 'Video Players & Editors;Music & Video'\n",
      " 'News & Magazines' 'Maps & Navigation'\n",
      " 'Health & Fitness;Action & Adventure' 'Educational' 'Casino'\n",
      " 'Adventure;Brain Games' 'Trivia;Education' 'Lifestyle;Education'\n",
      " 'Books & Reference;Creativity' 'Books & Reference;Education'\n",
      " 'Puzzle;Education' 'Role Playing;Education' 'Role Playing;Brain Games'\n",
      " 'Strategy;Education' 'Racing;Pretend Play' 'Communication;Creativity'\n",
      " 'February 11, 2018' 'Strategy;Creativity']\n"
     ]
    }
   ],
   "source": [
    "unique_genres = df['Genres'].unique()\n",
    "print(unique_genres)\n"
   ]
  },
  {
   "attachments": {},
   "cell_type": "markdown",
   "metadata": {},
   "source": [
    "9. Сгруппируйте данные по столбцу `Genres` и посчитайте для каждого жанра средний и медианный рейтинг. Представьте результат в виде нового DataFrame,который будет сохранен в переменную `grouped_df`, где одна колонка будет содержать названия жарнов, а две другие буду содержать в себе средний и медианный рейтинги. Напишите краткий вывод."
   ]
  },
  {
   "cell_type": "code",
   "execution_count": 14,
   "metadata": {},
   "outputs": [
    {
     "name": "stdout",
     "output_type": "stream",
     "text": [
      "                         Genres      mean  median\n",
      "0                        Action  4.285475     4.3\n",
      "1     Action;Action & Adventure  4.311765     4.3\n",
      "2                     Adventure  4.180822     4.3\n",
      "3  Adventure;Action & Adventure  4.423077     4.5\n",
      "4         Adventure;Brain Games  4.600000     4.6\n"
     ]
    }
   ],
   "source": [
    "grouped_df = df.groupby('Genres')['Rating'].agg(['mean', 'median']).reset_index()\n",
    "print(grouped_df.head())\n"
   ]
  },
  {
   "cell_type": "markdown",
   "metadata": {},
   "source": [
    " Код создаст новый DataFrame grouped_df, в котором каждая строка будет представлять один жанр, а столбцы 'mean' и 'median' будут содержать средний и медианный рейтинг для каждого жанра соответственно."
   ]
  },
  {
   "attachments": {},
   "cell_type": "markdown",
   "metadata": {},
   "source": [
    "10. Из получившегося датафрейма выведите на экран только те жанры, чей медианный рейтинг больше 4.5. Напишите краткий вывод."
   ]
  },
  {
   "cell_type": "code",
   "execution_count": 15,
   "metadata": {},
   "outputs": [
    {
     "name": "stdout",
     "output_type": "stream",
     "text": [
      "                          Genres       mean  median\n",
      "4          Adventure;Brain Games   4.600000     4.6\n",
      "11       Art & Design;Creativity   4.400000     4.7\n",
      "18            Board;Pretend Play   4.800000     4.8\n",
      "35             Comics;Creativity   4.800000     4.8\n",
      "55      Entertainment;Creativity   4.533333     4.6\n",
      "60             February 11, 2018  19.000000    19.0\n",
      "65    Health & Fitness;Education   4.700000     4.7\n",
      "75           Music;Music & Video   4.533333     4.6\n",
      "88              Puzzle;Education   4.600000     4.6\n",
      "106  Strategy;Action & Adventure   4.600000     4.6\n"
     ]
    }
   ],
   "source": [
    "selected_genres = grouped_df[grouped_df['median'] > 4.5]\n",
    "print(selected_genres)\n"
   ]
  },
  {
   "cell_type": "markdown",
   "metadata": {},
   "source": [
    "код создаст новый DataFrame selected_genres, в котором будут только те строки, где медианный рейтинг больше 4.5, новый DataFrame selected_genres содержит информацию о жанрах, чей медианный рейтинг превышает 4.5."
   ]
  },
  {
   "attachments": {},
   "cell_type": "markdown",
   "metadata": {},
   "source": [
    "11. Выведете кол-во дубликатов в основном DataFrame (df) и удалите их "
   ]
  },
  {
   "cell_type": "code",
   "execution_count": 16,
   "metadata": {},
   "outputs": [
    {
     "name": "stdout",
     "output_type": "stream",
     "text": [
      "Количество дубликатов в df: 483\n",
      "Количество строк в очищенном DataFrame: 10358\n"
     ]
    }
   ],
   "source": [
    "duplicate_count = df.duplicated().sum()\n",
    "print(\"Количество дубликатов в df:\", duplicate_count)\n",
    "df_cleaned = df.drop_duplicates()\n",
    "\n",
    "print(\"Количество строк в очищенном DataFrame:\", len(df_cleaned))\n"
   ]
  },
  {
   "attachments": {},
   "cell_type": "markdown",
   "metadata": {},
   "source": [
    "12. Посчитатайте какое количество приложений содержится в каждом жанре (value_counts).В получившемся Series выведите на экран 10 строк с наибольшим количеством приложений отсортированных по убыванию."
   ]
  },
  {
   "cell_type": "code",
   "execution_count": 17,
   "metadata": {},
   "outputs": [
    {
     "name": "stdout",
     "output_type": "stream",
     "text": [
      "Genres\n",
      "Tools              842\n",
      "Entertainment      623\n",
      "Education          549\n",
      "Medical            463\n",
      "Business           460\n",
      "Productivity       424\n",
      "Sports             398\n",
      "Personalization    392\n",
      "Communication      387\n",
      "Lifestyle          381\n",
      "Name: count, dtype: int64\n"
     ]
    }
   ],
   "source": [
    "genre_counts = df['Genres'].value_counts()\n",
    "top_genres = genre_counts.head(10)\n",
    "print(top_genres)\n"
   ]
  }
 ],
 "metadata": {
  "kernelspec": {
   "display_name": "Python 3",
   "language": "python",
   "name": "python3"
  },
  "language_info": {
   "codemirror_mode": {
    "name": "ipython",
    "version": 3
   },
   "file_extension": ".py",
   "mimetype": "text/x-python",
   "name": "python",
   "nbconvert_exporter": "python",
   "pygments_lexer": "ipython3",
   "version": "3.12.1"
  },
  "orig_nbformat": 4
 },
 "nbformat": 4,
 "nbformat_minor": 2
}
